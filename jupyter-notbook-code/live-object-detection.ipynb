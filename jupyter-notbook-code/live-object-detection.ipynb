{
 "cells": [
  {
   "cell_type": "markdown",
   "id": "1cd86bc9",
   "metadata": {},
   "source": [
    "# Import OpenCV-Python library"
   ]
  },
  {
   "cell_type": "code",
   "execution_count": null,
   "id": "0c33e814",
   "metadata": {},
   "outputs": [],
   "source": [
    "import cv2"
   ]
  },
  {
   "cell_type": "markdown",
   "id": "94e2508f",
   "metadata": {},
   "source": [
    "# Set threshold value to detect object"
   ]
  },
  {
   "cell_type": "code",
   "execution_count": null,
   "id": "782e7aaf",
   "metadata": {},
   "outputs": [],
   "source": [
    "thres = 0.45\n",
    "\n",
    "cap = cv2.VideoCapture(1)\n",
    "cap.set(3,1280)\n",
    "cap.set(4,720)\n",
    "cap.set(10,70)"
   ]
  },
  {
   "cell_type": "markdown",
   "id": "7722aeaa",
   "metadata": {},
   "source": [
    "# Define object name list inside coco.names file"
   ]
  },
  {
   "cell_type": "code",
   "execution_count": null,
   "id": "4a527a58",
   "metadata": {},
   "outputs": [],
   "source": [
    "classNames= []\n",
    "\n",
    "# path:poc/objectdetection/coco.names\n",
    "classFile = 'coco.names'\n",
    "\n",
    "with open(classFile,'rt') as f:\n",
    "    classNames = f.read().rstrip('n').split('n')\n",
    "\n",
    "# path:poc/objectdetection/ssd_mobilenet_v3_large_coco_2020_01_14.pbtxt\n",
    "configPath = 'ssd_mobilenet_v3_large_coco_2020_01_14.pbtxt'\n",
    "\n",
    "# path:poc/objectdetection/rozen_inference_graph.pb\n",
    "weightsPath = 'frozen_inference_graph.pb'"
   ]
  },
  {
   "cell_type": "markdown",
   "id": "8b0e026b",
   "metadata": {},
   "source": [
    "# Pass weightsPath and configPath as a parameter to detection model"
   ]
  },
  {
   "cell_type": "code",
   "execution_count": null,
   "id": "608f271a",
   "metadata": {},
   "outputs": [],
   "source": [
    "net = cv2.dnn_DetectionModel(weightsPath,configPath)\n",
    "net.setInputSize(320,320)\n",
    "net.setInputScale(1.0/ 127.5)\n",
    "net.setInputMean((127.5, 127.5, 127.5))\n",
    "net.setInputSwapRB(True)"
   ]
  },
  {
   "cell_type": "markdown",
   "id": "29ed9ffb",
   "metadata": {},
   "source": [
    "# Highlight object in rectangle shape also show object name"
   ]
  },
  {
   "cell_type": "code",
   "execution_count": null,
   "id": "0c563969",
   "metadata": {},
   "outputs": [],
   "source": [
    "while True:\n",
    "    success,img = cap.read()\n",
    "    classIds, confs, bbox = net.detect(img,confThreshold=thres)\n",
    "    print(classIds,bbox)\n",
    "\n",
    "    if len(classIds) != 0:\n",
    "        for classId, confidence,box in zip(classIds.flatten(),confs.flatten(),bbox):\n",
    "            cv2.rectangle(img,box,color=(0,255,0),thickness=2)\n",
    "            cv2.putText(img,classNames[classId-1].upper(),(box[0]+10,box[1]+30),\n",
    "            cv2.FONT_HERSHEY_COMPLEX,1,(0,255,0),2)\n",
    "            cv2.putText(img,str(round(confidence*100,2)),(box[0]+200,box[1]+30),\n",
    "            cv2.FONT_HERSHEY_COMPLEX,1,(0,255,0),2)\n",
    "\n",
    "    cv2.imshow(\"Output\",img)\n",
    "    cv2.waitKey(1)\n"
   ]
  }
 ],
 "metadata": {
  "kernelspec": {
   "display_name": "Python 3 (ipykernel)",
   "language": "python",
   "name": "python3"
  },
  "language_info": {
   "codemirror_mode": {
    "name": "ipython",
    "version": 3
   },
   "file_extension": ".py",
   "mimetype": "text/x-python",
   "name": "python",
   "nbconvert_exporter": "python",
   "pygments_lexer": "ipython3",
   "version": "3.10.9"
  }
 },
 "nbformat": 4,
 "nbformat_minor": 5
}
